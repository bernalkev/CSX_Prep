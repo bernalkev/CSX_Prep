{
 "cells": [
  {
   "cell_type": "code",
   "execution_count": null,
   "metadata": {
    "vscode": {
     "languageId": "javascript"
    }
   },
   "outputs": [],
   "source": [
    "/*Multi Line Comment - Javascript needs data, programming doesn't work without it. Theres different data types\n",
    "\n",
    "For example, the first ones are Variables & Constants\n",
    "\n",
    "*/\n",
    "\n",
    "var favoriteshow = \"Dr. House\";\n",
    "console.log(favoriteshow) // => \"Dr. House\"\n",
    "\n",
    "// preferred data type that is similar to var is let, and you should be using it with variables. For constants you can use const //\n",
    "\n",
    "let fridge = \"empty\";\n",
    "console.log(fridge) // => \"empty\"\n",
    "fridge = \"full\"\n",
    "console.log (fridge) // => \"full\"\n",
    "\n",
    "// Variables rules: 1. names are case-sensitive, 2. variables should begin with a lowercase character\n",
    "// Variables rules 3. Variables cannot begin with a number\n",
    "// Variables cannot contain symbols\n",
    "// camelCased variable names are BEST PRACTICE\n",
    "\n",
    "let favFood;\n",
    "let camelCasedVariable;\n",
    "let userName;\n",
    "\n",
    "// NO\n",
    "\n",
    "let favoriterestaurant\n",
    "\n",
    "\n",
    "\n",
    "\n",
    "\n"
   ]
  },
  {
   "cell_type": "code",
   "execution_count": null,
   "metadata": {
    "vscode": {
     "languageId": "javascript"
    }
   },
   "outputs": [],
   "source": []
  }
 ],
 "metadata": {
  "language_info": {
   "name": "python"
  }
 },
 "nbformat": 4,
 "nbformat_minor": 2
}
